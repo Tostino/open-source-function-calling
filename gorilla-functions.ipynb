{
 "cells": [
  {
   "cell_type": "markdown",
   "metadata": {},
   "source": [
    "# Function Calling with the new Gorilla model\n",
    "\n",
    "Copied and ajdusted from https://github.com/abacaj/openhermes-function-calling/tree/main\n",
    "Model: gorilla-llm/gorilla-openfunctions-v1\n",
    "Dataset: https://github.com/ShishirPatil/gorilla/tree/main/openfunctions"
   ]
  },
  {
   "cell_type": "code",
   "execution_count": null,
   "metadata": {},
   "outputs": [],
   "source": [
    "!pip install transformers"
   ]
  },
  {
   "cell_type": "code",
   "execution_count": null,
   "id": "535201b2-95b7-4a5c-aa1b-5f95f9e695ad",
   "metadata": {},
   "outputs": [],
   "source": [
    "import torch\n",
    "from transformers import pipeline, AutoModelForCausalLM, AutoTokenizer\n",
    "\n",
    "model_id = \"gorilla-llm/gorilla-openfunctions-v1\"\n",
    "\n",
    "tokenizer = AutoTokenizer.from_pretrained(model_id)\n",
    "model = AutoModelForCausalLM.from_pretrained(model_id, torch_dtype=torch.bfloat16,device_map=\"auto\")\n",
    "pipe = pipeline(\"text-generation\", model=model, tokenizer=tokenizer)"
   ]
  },
  {
   "cell_type": "code",
   "execution_count": null,
   "id": "4059915c-ce53-4178-9707-a930428254ab",
   "metadata": {},
   "outputs": [],
   "source": [
    "import json\n",
    "def generate_functions_prompt(query,functions=None):\n",
    "    prompt = f\"\"\"USER: <<question>> {query} <<function>> {json.dumps(functions)}\\nASSISTANT: \"\"\"\n",
    "    return  prompt\n",
    "\n",
    "def generate(prompt):\n",
    "    return pipe(generate_functions_prompt(prompt),max_new_tokens=512,do_sample=False,return_full_text=False)[0]['generated_text']\n"
   ]
  },
  {
   "cell_type": "code",
   "execution_count": null,
   "metadata": {},
   "outputs": [],
   "source": [
    "functions = [\n",
    "    {\n",
    "        \"name\": \"call_uber\",\n",
    "        \"description\": \"Find suitable ride for customers given the location, type of ride, and the amount of time the customer is willing to wait as parameters\",\n",
    "        \"parameters\":  [\n",
    "            {\"name\": \"loc\", \"type\": \"string\", \"description\": \"location of the starting place of the uber ride\"},\n",
    "            {\"name\":\"type\", \"type\": \"string\", \"enum\": [\"plus\", \"comfort\", \"black\"], \"description\": \"types of uber ride user is ordering\"},\n",
    "            {\"name\": \"time\", \"type\": \"number\", \"description\": \"the amount of time in minutes the customer is willing to wait\"}\n",
    "            ]\n",
    "    },\n",
    "    {\n",
    "        \"name\": \"get_current_weather\",\n",
    "        \"description\": \"Gets the current weather for a given location\",\n",
    "        \"parameters\": {\n",
    "            \"type\": \"object\",\n",
    "            \"properties\": {\n",
    "                \"location\": {\n",
    "                    \"type\": \"string\",\n",
    "                    \"description\": \"The city and state, e.g. San Francisco, CA\",\n",
    "                },\n",
    "                \"format\": {\n",
    "                    \"type\": \"string\",\n",
    "                    \"enum\": [\"celsius\", \"fahrenheit\"],\n",
    "                    \"description\": \"The temperature unit to use. Infer this from the users location.\",\n",
    "                },\n",
    "            },\n",
    "            \"required\": [\"location\", \"format\"],\n",
    "        },\n",
    "    },\n",
    "]"
   ]
  },
  {
   "cell_type": "code",
   "execution_count": null,
   "metadata": {},
   "outputs": [],
   "source": [
    "# get_current_weather last function in list\n",
    "prompt = generate_functions_prompt(\"What is the weather in New York?\",functions=functions)\n",
    "print(generate(prompt))\n",
    "# get_current_weather first function in list\n",
    "prompt = generate_functions_prompt(\"What is the weather in New York?\",functions=functions[::-1])\n",
    "print(generate(prompt))\n",
    "# Only get_current_weather in list\n",
    "prompt = generate_functions_prompt(\"What is the weather in New York?\",functions=[functions[::-1][0]])\n",
    "print(generate(prompt))"
   ]
  },
  {
   "cell_type": "code",
   "execution_count": null,
   "metadata": {},
   "outputs": [],
   "source": [
    "query = \"Call me an Uber ride in Berkeley at zipcode 94704 in 10 minutes\"\n",
    "# call_uber first function in list\n",
    "prompt = generate_functions_prompt(query,functions=functions)\n",
    "print(generate(prompt))\n",
    "# call_uber last function in list\n",
    "prompt = generate_functions_prompt(query,functions=functions[::-1])\n",
    "print(generate(prompt))\n",
    "# Only call_uber in list\n",
    "prompt = generate_functions_prompt(query,functions=[functions[0]])\n",
    "print(generate(prompt))"
   ]
  },
  {
   "cell_type": "code",
   "execution_count": null,
   "metadata": {},
   "outputs": [],
   "source": [
    "prompt = generate_functions_prompt(\"What is the weather in New York?\",functions=[functions[1]])\n",
    "print(generate(prompt))\n",
    "prompt = generate_functions_prompt(\"Call me an Uber ride in Berkeley at zipcode 94704 in 10 minutes\",functions=[functions[0]])\n",
    "print(generate(prompt))"
   ]
  }
 ],
 "metadata": {
  "kernelspec": {
   "display_name": "Python 3 (ipykernel)",
   "language": "python",
   "name": "python3"
  },
  "language_info": {
   "codemirror_mode": {
    "name": "ipython",
    "version": 3
   },
   "file_extension": ".py",
   "mimetype": "text/x-python",
   "name": "python",
   "nbconvert_exporter": "python",
   "pygments_lexer": "ipython3",
   "version": "3.9.16"
  }
 },
 "nbformat": 4,
 "nbformat_minor": 5
}
